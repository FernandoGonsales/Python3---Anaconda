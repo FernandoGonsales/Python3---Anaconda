{
 "cells": [
  {
   "cell_type": "code",
   "execution_count": 30,
   "metadata": {},
   "outputs": [
    {
     "name": "stdin",
     "output_type": "stream",
     "text": [
      "Informe o valor do produto da etiqueta:  10\n"
     ]
    }
   ],
   "source": [
    "valor = float(input(\"Informe o valor do produto da etiqueta: \"))"
   ]
  },
  {
   "cell_type": "markdown",
   "metadata": {},
   "source": [
    "* Opções de pagamento:\n",
    "1. À vista em dinheiro ou cheque, recebe 10% de desconto\n",
    "2. À vista no cartão de crédito, recebe 15% de desconto\n",
    "3. Em duas vezes, preço normal de etiqueta sem juros\n",
    "4. Em duas vezes, preço normal de etiqueta mais juros de 10%"
   ]
  },
  {
   "cell_type": "code",
   "execution_count": 35,
   "metadata": {},
   "outputs": [
    {
     "name": "stdin",
     "output_type": "stream",
     "text": [
      "Selecione uma das opção de pagamento acima:  1\n"
     ]
    },
    {
     "name": "stdout",
     "output_type": "stream",
     "text": [
      "valor: R$9.00\n"
     ]
    }
   ],
   "source": [
    "pagamento = int(input(\"Selecione uma das opção de pagamento acima: \"))\n",
    "\n",
    "total: float\n",
    "    \n",
    "if pagamento == 1:\n",
    "    total = (valor - (valor * 10 / 100))\n",
    "if pagamento == 2:\n",
    "    total = (valor - (valor * 15 / 100))\n",
    "if pagamento == 3:\n",
    "    total = (valor)\n",
    "if pagamento == 4:\n",
    "    total = (valor + (valor * 10 / 100))\n",
    "\n",
    "\n",
    "if pagamento >= 1 and pagamento <= 4:\n",
    "    print (\"valor: R${:.2f}\".format (total))\n",
    "else:\n",
    "    print (\"opcao invalida\");"
   ]
  },
  {
   "cell_type": "code",
   "execution_count": null,
   "metadata": {},
   "outputs": [],
   "source": []
  },
  {
   "cell_type": "code",
   "execution_count": null,
   "metadata": {},
   "outputs": [],
   "source": []
  }
 ],
 "metadata": {
  "kernelspec": {
   "display_name": "Python 3",
   "language": "python",
   "name": "python3"
  },
  "language_info": {
   "codemirror_mode": {
    "name": "ipython",
    "version": 3
   },
   "file_extension": ".py",
   "mimetype": "text/x-python",
   "name": "python",
   "nbconvert_exporter": "python",
   "pygments_lexer": "ipython3",
   "version": "3.8.3"
  }
 },
 "nbformat": 4,
 "nbformat_minor": 4
}
