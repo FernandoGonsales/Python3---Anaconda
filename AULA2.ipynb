{
 "cells": [
  {
   "cell_type": "markdown",
   "metadata": {},
   "source": [
    "Exemplos de tamanho\n",
    "# MAIOR\n",
    "## MEDIO - MAIOR\n",
    "### MENOR - MEDIO\n",
    "#### MINUSCULO - MENOR\n",
    "##### MINUSCULO\n"
   ]
  },
  {
   "cell_type": "markdown",
   "metadata": {},
   "source": [
    "Exemplos de efeitos\n",
    "\n",
    "2x ASTERISCO **EXEMPLO**\n",
    "\n",
    "1x UNDERLINE _EXEMPLO_\n",
    "\n",
    "1x TIL ~EXEMPLO~\n",
    "\n",
    "COMBINADOS **_~EXEMPLO~_**\n",
    "\n",
    "\n"
   ]
  },
  {
   "cell_type": "markdown",
   "metadata": {},
   "source": [
    "Exemplo Lista\n",
    "1. CAPITULO PRIMEIRO\n",
    "2. CAPITULO SEGUNDO\n",
    "    * SUB LISTA\n",
    "1. CAPITULO TERCEIRO\n",
    "* teste\n",
    "    - teste\n",
    "        + teste"
   ]
  },
  {
   "cell_type": "markdown",
   "metadata": {},
   "source": [
    "\n",
    "Links\n",
    "\n",
    "[Com link](https://www.google.com.br/) Sem link"
   ]
  },
  {
   "cell_type": "markdown",
   "metadata": {},
   "source": [
    "\n",
    "Logos\n",
    "\n",
    "![texto](https://vestibular.unifcv.edu.br/ead/static/img/logo.png)"
   ]
  },
  {
   "cell_type": "markdown",
   "metadata": {},
   "source": [
    "| Tabela     | Nome     | Idade     |\n",
    "|------------|----------|-----------|\n",
    "| Tabela1    | fernando | 19        |\n",
    "| Tabela2    | franchi  | 20        |\n",
    "| Tabela3    | fernanda | 21        |\n",
    "| Tabela4    | franche  | 22        |"
   ]
  },
  {
   "cell_type": "markdown",
   "metadata": {},
   "source": [
    "\n",
    "Latex para matematica\n",
    "\n",
    "$$\\int\\int_D f \\; dxdy = \\oint_C u.dx+v.dy$$\n"
   ]
  },
  {
   "cell_type": "markdown",
   "metadata": {},
   "source": [
    "$$\\begin{array}{|l|c|r|} \\hline\n",
    "left=l & center=c & right=r \\\\ \\hline\n",
    "x/y & \\frac{x}{y} & \\dfrac{x}{y}\\\\ \\hline\n",
    "Normal &{\\rm Roman}&{\\tt Courier}\\\\\\hline\n",
    "\\end{array}$$"
   ]
  },
  {
   "cell_type": "markdown",
   "metadata": {},
   "source": [
    "$$\\begin{array}{cccccc} \\hline\n",
    "{.} & A & B & C & D & E \\\\ \\hline\n",
    "1 & A1 & B1 & C1 & D1 & E1 \\\\ \\hline\n",
    "2 & A2 & B2 & C2 & D2 & E2 \\\\ \\hline\n",
    "\\end{array}$$"
   ]
  },
  {
   "cell_type": "code",
   "execution_count": null,
   "metadata": {},
   "outputs": [],
   "source": []
  }
 ],
 "metadata": {
  "kernelspec": {
   "display_name": "Python 3",
   "language": "python",
   "name": "python3"
  },
  "language_info": {
   "codemirror_mode": {
    "name": "ipython",
    "version": 3
   },
   "file_extension": ".py",
   "mimetype": "text/x-python",
   "name": "python",
   "nbconvert_exporter": "python",
   "pygments_lexer": "ipython3",
   "version": "3.8.3"
  }
 },
 "nbformat": 4,
 "nbformat_minor": 4
}
